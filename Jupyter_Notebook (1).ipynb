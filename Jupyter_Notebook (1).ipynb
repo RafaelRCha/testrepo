{
  "metadata": {
    "kernelspec": {
      "name": "python",
      "display_name": "Python (Pyodide)",
      "language": "python"
    },
    "language_info": {
      "name": "python",
      "version": "3.7.12",
      "mimetype": "text/x-python",
      "codemirror_mode": {
        "name": "ipython",
        "version": 3
      },
      "pygments_lexer": "ipython3",
      "nbconvert_exporter": "python",
      "file_extension": ".py"
    },
    "prev_pub_hash": "9e1985db9844176462bd1d5863048c9f3d17404bbc6a648be9084b0c42b29347"
  },
  "nbformat_minor": 4,
  "nbformat": 4,
  "cells": [
    {
      "cell_type": "markdown",
      "source": "<center>\n    <img src=\"https://cf-courses-data.s3.us.cloud-object-storage.appdomain.cloud/IBMDeveloperSkillsNetwork-DS0105EN-SkillsNetwork/labs/Module2/images/SN_web_lightmode.png\" width=\"300\" alt=\"cognitiveclass.ai logo\">\n</center>\n",
      "metadata": {}
    },
    {
      "cell_type": "markdown",
      "source": "# Hands-on Lab: Create your Jupyter Notebook\n",
      "metadata": {}
    },
    {
      "cell_type": "markdown",
      "source": "#### Add your code below following the instructions given in the course\n",
      "metadata": {}
    },
    {
      "cell_type": "code",
      "source": "Data Science Tools and Ecosystem",
      "metadata": {},
      "outputs": [],
      "execution_count": null
    },
    {
      "cell_type": "markdown",
      "source": "Copyright ©2024 IBM Corporation. All rights reserved.\n",
      "metadata": {}
    },
    {
      "cell_type": "code",
      "source": "In this notebook, Data Science Tools and Ecosystem are summarized.",
      "metadata": {
        "trusted": true
      },
      "outputs": [],
      "execution_count": null
    },
    {
      "cell_type": "markdown",
      "source": "Python\nR\nJava\nScala",
      "metadata": {}
    },
    {
      "cell_type": "code",
      "source": "NumPy\nPandas\nPyTorch\nMatplotlib\nSeaborn\nScikit-learn\nKeras\nTensorFlow\nApache Spark\nVegas\nBig DL\nGGplot2",
      "metadata": {
        "trusted": true
      },
      "outputs": [],
      "execution_count": null
    },
    {
      "cell_type": "code",
      "source": "Tools\nJupyter Notebook\nRStudio\nApache Spark\nApache Nifi",
      "metadata": {
        "trusted": true
      },
      "outputs": [],
      "execution_count": null
    },
    {
      "cell_type": "code",
      "source": "10 - 4  # Resultado: 6",
      "metadata": {
        "trusted": true
      },
      "outputs": [],
      "execution_count": null
    },
    {
      "cell_type": "code",
      "source": "7 * 2  # Resultado: 14",
      "metadata": {
        "trusted": true
      },
      "outputs": [],
      "execution_count": null
    },
    {
      "cell_type": "code",
      "source": "minutes = 45\nhours = minutes / 60\nhours",
      "metadata": {
        "trusted": true
      },
      "outputs": [],
      "execution_count": null
    },
    {
      "cell_type": "code",
      "source": "# Lista de objetivos\nobjetivos = [\n    \"Comprender los conceptos básicos de la ciencia de datos.\",\n    \"Aprender a manejar y procesar datos con herramientas como Python y R.\",\n    \"Desarrollar habilidades en análisis estadístico y visualización de datos.\",\n    \"Aplicar técnicas de machine learning a problemas reales.\",\n    \"Entender y manejar diferentes tipos de datos, como datos estructurados y no estructurados.\",\n    \"Trabajar con grandes volúmenes de datos utilizando herramientas como SQL y Spark.\"\n]\n\n# Imprimir la lista de objetivos\nfor objetivo in objetivos:\n    print(objetivo)",
      "metadata": {
        "trusted": true
      },
      "outputs": [],
      "execution_count": null
    },
    {
      "cell_type": "code",
      "source": "# Autor\n\nEste cuaderno fue creado por: Rafael Rojas\n\n**[Rafael Rojas]**",
      "metadata": {
        "trusted": true
      },
      "outputs": [],
      "execution_count": null
    }
  ]
}